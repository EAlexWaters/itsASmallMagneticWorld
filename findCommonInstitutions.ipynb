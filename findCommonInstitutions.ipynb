{
 "cells": [
  {
   "cell_type": "markdown",
   "id": "1d2c5e9d-e393-4ed1-9dfd-cc18270a3006",
   "metadata": {},
   "source": [
    "Load in all the name and institution information"
   ]
  },
  {
   "cell_type": "code",
   "execution_count": null,
   "id": "13e5b2d4-cc3c-4138-9c43-5c8015def2e9",
   "metadata": {},
   "outputs": [],
   "source": [
    "\n",
    "\n",
    "    "
   ]
  },
  {
   "cell_type": "markdown",
   "id": "9cfd28ed-78aa-4386-9989-a9304a3b4fae",
   "metadata": {},
   "source": [
    "Query the user for a name or institution input"
   ]
  },
  {
   "cell_type": "code",
   "execution_count": null,
   "id": "b0636980-db27-4518-835b-0030586cb803",
   "metadata": {},
   "outputs": [],
   "source": []
  },
  {
   "cell_type": "markdown",
   "id": "abf928fa-dcfb-4f2b-8749-061d3961c58e",
   "metadata": {},
   "source": [
    "Find the search query in the csv"
   ]
  },
  {
   "cell_type": "code",
   "execution_count": null,
   "id": "db7d67fa-634f-410f-a07b-3264e8c57a18",
   "metadata": {},
   "outputs": [],
   "source": []
  },
  {
   "cell_type": "markdown",
   "id": "c3ac0ab2-ec33-4a0c-b4b9-21557d9dd153",
   "metadata": {},
   "source": [
    "Display information from search output\n"
   ]
  },
  {
   "cell_type": "code",
   "execution_count": null,
   "id": "d3152c31-fcf7-4b6a-b6a7-00ce7ba21a1e",
   "metadata": {},
   "outputs": [],
   "source": []
  },
  {
   "cell_type": "code",
   "execution_count": null,
   "id": "a234cf56-5550-4201-b746-75931ecf31aa",
   "metadata": {},
   "outputs": [],
   "source": []
  }
 ],
 "metadata": {
  "kernelspec": {
   "display_name": "Python 3",
   "language": "python",
   "name": "python3"
  },
  "language_info": {
   "codemirror_mode": {
    "name": "ipython",
    "version": 3
   },
   "file_extension": ".py",
   "mimetype": "text/x-python",
   "name": "python",
   "nbconvert_exporter": "python",
   "pygments_lexer": "ipython3",
   "version": "3.9.4"
  }
 },
 "nbformat": 4,
 "nbformat_minor": 5
}
